{
 "cells": [
  {
   "cell_type": "code",
   "execution_count": 1,
   "id": "ccebebb6-6f44-4737-b4de-29f8859cb535",
   "metadata": {},
   "outputs": [],
   "source": [
    "import pandas as pd\n",
    "import matplotlib.pyplot as plt\n",
    "import pandas as pd\n",
    "import numpy as np\n",
    "import scipy.stats as ss\n",
    "import datetime as dt\n",
    "from scipy.stats import t\n",
    "import collections\n",
    "\n",
    "# import all the tsa functions for AR models, incluant AutoReg\n",
    "import statsmodels.tsa.ar_model as sma\n",
    "from statsmodels.tsa.ar_model import AutoReg\n",
    "\n",
    "import statsmodels.api as sm\n",
    "from sklearn import linear_model\n",
    "from sklearn.linear_model import RidgeCV,Ridge\n",
    "from sklearn.model_selection import LeaveOneOut, KFold\n",
    "import warnings"
   ]
  },
  {
   "cell_type": "code",
   "execution_count": 2,
   "id": "53d56bf7-4c0b-4126-886e-adb3662e5553",
   "metadata": {},
   "outputs": [
    {
     "name": "stdout",
     "output_type": "stream",
     "text": [
      "539767\n"
     ]
    },
    {
     "data": {
      "text/html": [
       "<div>\n",
       "<style scoped>\n",
       "    .dataframe tbody tr th:only-of-type {\n",
       "        vertical-align: middle;\n",
       "    }\n",
       "\n",
       "    .dataframe tbody tr th {\n",
       "        vertical-align: top;\n",
       "    }\n",
       "\n",
       "    .dataframe thead th {\n",
       "        text-align: right;\n",
       "    }\n",
       "</style>\n",
       "<table border=\"1\" class=\"dataframe\">\n",
       "  <thead>\n",
       "    <tr style=\"text-align: right;\">\n",
       "      <th></th>\n",
       "      <th>Ticker</th>\n",
       "      <th>DlyPrc</th>\n",
       "      <th>DlyRet</th>\n",
       "      <th>DlyVol</th>\n",
       "      <th>vwretd</th>\n",
       "      <th>S&amp;P</th>\n",
       "    </tr>\n",
       "    <tr>\n",
       "      <th>DlyCalDt</th>\n",
       "      <th></th>\n",
       "      <th></th>\n",
       "      <th></th>\n",
       "      <th></th>\n",
       "      <th></th>\n",
       "      <th></th>\n",
       "    </tr>\n",
       "  </thead>\n",
       "  <tbody>\n",
       "    <tr>\n",
       "      <th>2019-01-02</th>\n",
       "      <td>AA</td>\n",
       "      <td>26.24</td>\n",
       "      <td>-0.012792</td>\n",
       "      <td>3066951.0</td>\n",
       "      <td>0.001796</td>\n",
       "      <td>0.019857</td>\n",
       "    </tr>\n",
       "    <tr>\n",
       "      <th>2019-01-03</th>\n",
       "      <td>AA</td>\n",
       "      <td>26.24</td>\n",
       "      <td>0.000000</td>\n",
       "      <td>2979941.0</td>\n",
       "      <td>-0.021043</td>\n",
       "      <td>0.013227</td>\n",
       "    </tr>\n",
       "    <tr>\n",
       "      <th>2019-01-04</th>\n",
       "      <td>AA</td>\n",
       "      <td>28.34</td>\n",
       "      <td>0.080030</td>\n",
       "      <td>5653659.0</td>\n",
       "      <td>0.033410</td>\n",
       "      <td>-0.026963</td>\n",
       "    </tr>\n",
       "    <tr>\n",
       "      <th>2019-01-07</th>\n",
       "      <td>AA</td>\n",
       "      <td>28.42</td>\n",
       "      <td>0.002823</td>\n",
       "      <td>2440950.0</td>\n",
       "      <td>0.009202</td>\n",
       "      <td>0.046780</td>\n",
       "    </tr>\n",
       "    <tr>\n",
       "      <th>2019-01-08</th>\n",
       "      <td>AA</td>\n",
       "      <td>28.25</td>\n",
       "      <td>-0.005982</td>\n",
       "      <td>2218300.0</td>\n",
       "      <td>0.010269</td>\n",
       "      <td>-0.035806</td>\n",
       "    </tr>\n",
       "  </tbody>\n",
       "</table>\n",
       "</div>"
      ],
      "text/plain": [
       "           Ticker  DlyPrc    DlyRet     DlyVol    vwretd       S&P\n",
       "DlyCalDt                                                          \n",
       "2019-01-02     AA   26.24 -0.012792  3066951.0  0.001796  0.019857\n",
       "2019-01-03     AA   26.24  0.000000  2979941.0 -0.021043  0.013227\n",
       "2019-01-04     AA   28.34  0.080030  5653659.0  0.033410 -0.026963\n",
       "2019-01-07     AA   28.42  0.002823  2440950.0  0.009202  0.046780\n",
       "2019-01-08     AA   28.25 -0.005982  2218300.0  0.010269 -0.035806"
      ]
     },
     "execution_count": 2,
     "metadata": {},
     "output_type": "execute_result"
    }
   ],
   "source": [
    "df = pd.read_csv('C:/Users/admin/Downloads/stock_data.csv',parse_dates=['DlyCalDt'],index_col='DlyCalDt')\n",
    "print(len(df))\n",
    "df.head()"
   ]
  },
  {
   "cell_type": "markdown",
   "id": "b49736d1-8f24-4f27-9498-c8fb990bf736",
   "metadata": {},
   "source": [
    "## Stock returns & S&P500 imports and calculations"
   ]
  },
  {
   "cell_type": "code",
   "execution_count": 3,
   "id": "7841f57e-053e-492d-8829-c70ec0ef992a",
   "metadata": {},
   "outputs": [
    {
     "data": {
      "text/html": [
       "<div>\n",
       "<style scoped>\n",
       "    .dataframe tbody tr th:only-of-type {\n",
       "        vertical-align: middle;\n",
       "    }\n",
       "\n",
       "    .dataframe tbody tr th {\n",
       "        vertical-align: top;\n",
       "    }\n",
       "\n",
       "    .dataframe thead th {\n",
       "        text-align: right;\n",
       "    }\n",
       "</style>\n",
       "<table border=\"1\" class=\"dataframe\">\n",
       "  <thead>\n",
       "    <tr style=\"text-align: right;\">\n",
       "      <th></th>\n",
       "      <th>DlyPrc</th>\n",
       "      <th>DlyRet</th>\n",
       "      <th>DlyVol</th>\n",
       "      <th>vwretd</th>\n",
       "      <th>S&amp;P</th>\n",
       "    </tr>\n",
       "  </thead>\n",
       "  <tbody>\n",
       "    <tr>\n",
       "      <th>count</th>\n",
       "      <td>539610.000000</td>\n",
       "      <td>539516.000000</td>\n",
       "      <td>5.396100e+05</td>\n",
       "      <td>539767.000000</td>\n",
       "      <td>539767.000000</td>\n",
       "    </tr>\n",
       "    <tr>\n",
       "      <th>mean</th>\n",
       "      <td>42.065340</td>\n",
       "      <td>0.001468</td>\n",
       "      <td>4.158862e+06</td>\n",
       "      <td>0.000881</td>\n",
       "      <td>-0.000002</td>\n",
       "    </tr>\n",
       "    <tr>\n",
       "      <th>std</th>\n",
       "      <td>101.518467</td>\n",
       "      <td>0.069282</td>\n",
       "      <td>1.123350e+07</td>\n",
       "      <td>0.017005</td>\n",
       "      <td>0.036655</td>\n",
       "    </tr>\n",
       "    <tr>\n",
       "      <th>min</th>\n",
       "      <td>0.022900</td>\n",
       "      <td>-0.917940</td>\n",
       "      <td>0.000000e+00</td>\n",
       "      <td>-0.118168</td>\n",
       "      <td>-3.028410</td>\n",
       "    </tr>\n",
       "    <tr>\n",
       "      <th>25%</th>\n",
       "      <td>3.290000</td>\n",
       "      <td>-0.017544</td>\n",
       "      <td>3.637398e+05</td>\n",
       "      <td>-0.003714</td>\n",
       "      <td>-0.008081</td>\n",
       "    </tr>\n",
       "    <tr>\n",
       "      <th>50%</th>\n",
       "      <td>13.390000</td>\n",
       "      <td>0.000000</td>\n",
       "      <td>1.206394e+06</td>\n",
       "      <td>0.001418</td>\n",
       "      <td>-0.000631</td>\n",
       "    </tr>\n",
       "    <tr>\n",
       "      <th>75%</th>\n",
       "      <td>42.410000</td>\n",
       "      <td>0.016578</td>\n",
       "      <td>3.615343e+06</td>\n",
       "      <td>0.007077</td>\n",
       "      <td>0.006854</td>\n",
       "    </tr>\n",
       "    <tr>\n",
       "      <th>max</th>\n",
       "      <td>3225.000000</td>\n",
       "      <td>8.748428</td>\n",
       "      <td>1.003256e+09</td>\n",
       "      <td>0.091556</td>\n",
       "      <td>4.416833</td>\n",
       "    </tr>\n",
       "  </tbody>\n",
       "</table>\n",
       "</div>"
      ],
      "text/plain": [
       "              DlyPrc         DlyRet        DlyVol         vwretd  \\\n",
       "count  539610.000000  539516.000000  5.396100e+05  539767.000000   \n",
       "mean       42.065340       0.001468  4.158862e+06       0.000881   \n",
       "std       101.518467       0.069282  1.123350e+07       0.017005   \n",
       "min         0.022900      -0.917940  0.000000e+00      -0.118168   \n",
       "25%         3.290000      -0.017544  3.637398e+05      -0.003714   \n",
       "50%        13.390000       0.000000  1.206394e+06       0.001418   \n",
       "75%        42.410000       0.016578  3.615343e+06       0.007077   \n",
       "max      3225.000000       8.748428  1.003256e+09       0.091556   \n",
       "\n",
       "                 S&P  \n",
       "count  539767.000000  \n",
       "mean       -0.000002  \n",
       "std         0.036655  \n",
       "min        -3.028410  \n",
       "25%        -0.008081  \n",
       "50%        -0.000631  \n",
       "75%         0.006854  \n",
       "max         4.416833  "
      ]
     },
     "execution_count": 3,
     "metadata": {},
     "output_type": "execute_result"
    }
   ],
   "source": [
    "df.describe()"
   ]
  },
  {
   "cell_type": "code",
   "execution_count": 4,
   "id": "e5fa7b5f-0a13-4cc0-93e2-9505282616df",
   "metadata": {},
   "outputs": [
    {
     "name": "stdout",
     "output_type": "stream",
     "text": [
      "           Ticker  DlyPrc    DlyRet     DlyVol    vwretd       S&P\n",
      "DlyCalDt                                                          \n",
      "2019-01-02     AA   26.24 -0.012792  3066951.0  0.001796  0.019857\n",
      "2019-01-03     AA   26.24  0.000000  2979941.0 -0.021043  0.013227\n",
      "2019-01-04     AA   28.34  0.080030  5653659.0  0.033410 -0.026963\n",
      "2019-01-07     AA   28.42  0.002823  2440950.0  0.009202  0.046780\n",
      "2019-01-08     AA   28.25 -0.005982  2218300.0  0.010269 -0.035806\n",
      "...           ...     ...       ...        ...       ...       ...\n",
      "2020-08-07     SU   16.18 -0.015216  4877202.0  0.000244 -0.008806\n",
      "2020-08-10     SU   16.91  0.045117  5206803.0  0.002652 -0.005671\n",
      "2020-08-11     SU   16.96  0.002957  5794876.0 -0.007931 -0.016591\n",
      "2020-08-12     SU   17.41  0.026533  4012786.0  0.012994 -0.017460\n",
      "2020-08-13     SU   16.98 -0.024698  3376436.0 -0.000593 -0.000683\n",
      "\n",
      "[5512 rows x 6 columns]\n"
     ]
    }
   ],
   "source": [
    "filtered_df = df[df['Ticker'].isin(['MAR', 'SU','AA','AACG','AAL','AAOI','AAPL','AAXN','ABB','ABBV','ABEO','ABEV','ABMD','ABT'])]\n",
    "\n",
    "# print the filtered dataframe\n",
    "print(filtered_df)"
   ]
  },
  {
   "cell_type": "code",
   "execution_count": 5,
   "id": "27024a8b-eef4-46e6-bd2d-f380cc50df54",
   "metadata": {},
   "outputs": [
    {
     "name": "stdout",
     "output_type": "stream",
     "text": [
      "           Ticker  DlyPrc    DlyRet      DlyVol    vwretd       S&P    weight\n",
      "DlyCalDt                                                                     \n",
      "2019-01-02     AA   26.24 -0.012792   3066951.0  0.001796  0.019857  0.002451\n",
      "2019-01-03     AA   26.24  0.000000   2979941.0 -0.021043  0.013227  0.002451\n",
      "2019-01-04     AA   28.34  0.080030   5653659.0  0.033410 -0.026963  0.002451\n",
      "2019-01-07     AA   28.42  0.002823   2440950.0  0.009202  0.046780  0.002451\n",
      "2019-01-08     AA   28.25 -0.005982   2218300.0  0.010269 -0.035806  0.002451\n",
      "...           ...     ...       ...         ...       ...       ...       ...\n",
      "2020-08-07   TRUE    5.48  0.277389  16589109.0  0.000244 -0.028568  0.002451\n",
      "2020-08-10   TRUE    5.44 -0.007299   4638210.0  0.002652  0.005649  0.002451\n",
      "2020-08-11   TRUE    5.04 -0.073529   2476159.0 -0.007931 -0.001321  0.002451\n",
      "2020-08-12   TRUE    5.10  0.011905   1151840.0  0.012994 -0.006204  0.002451\n",
      "2020-08-13   TRUE    5.15  0.009804   1159800.0 -0.000593 -0.007282  0.002451\n",
      "\n",
      "[539767 rows x 7 columns]\n"
     ]
    }
   ],
   "source": [
    "import pandas as pd\n",
    "from sklearn.preprocessing import LabelEncoder\n",
    "\n",
    "# Calculate frequency counts for each label\n",
    "counts = df['Ticker'].value_counts()\n",
    "\n",
    "# Calculate equal weights for each label based on frequency counts\n",
    "weights = dict(zip(counts.index, [1 / counts[Ticker] for Ticker in counts.index]))\n",
    "\n",
    "# Add weights to the dataset\n",
    "df['weight'] = df['Ticker'].map(weights)\n",
    "\n",
    "print(df)\n"
   ]
  },
  {
   "cell_type": "code",
   "execution_count": 6,
   "id": "41e73fbd-bf43-40db-b5b1-9e1cf98524e3",
   "metadata": {},
   "outputs": [
    {
     "data": {
      "text/html": [
       "<div>\n",
       "<style scoped>\n",
       "    .dataframe tbody tr th:only-of-type {\n",
       "        vertical-align: middle;\n",
       "    }\n",
       "\n",
       "    .dataframe tbody tr th {\n",
       "        vertical-align: top;\n",
       "    }\n",
       "\n",
       "    .dataframe thead th {\n",
       "        text-align: right;\n",
       "    }\n",
       "</style>\n",
       "<table border=\"1\" class=\"dataframe\">\n",
       "  <thead>\n",
       "    <tr style=\"text-align: right;\">\n",
       "      <th>col_0</th>\n",
       "      <th>count</th>\n",
       "    </tr>\n",
       "    <tr>\n",
       "      <th>Ticker</th>\n",
       "      <th></th>\n",
       "    </tr>\n",
       "  </thead>\n",
       "  <tbody>\n",
       "    <tr>\n",
       "      <th>AA</th>\n",
       "      <td>408</td>\n",
       "    </tr>\n",
       "    <tr>\n",
       "      <th>AACG</th>\n",
       "      <td>208</td>\n",
       "    </tr>\n",
       "    <tr>\n",
       "      <th>AAL</th>\n",
       "      <td>408</td>\n",
       "    </tr>\n",
       "    <tr>\n",
       "      <th>AAOI</th>\n",
       "      <td>408</td>\n",
       "    </tr>\n",
       "    <tr>\n",
       "      <th>AAPL</th>\n",
       "      <td>408</td>\n",
       "    </tr>\n",
       "    <tr>\n",
       "      <th>...</th>\n",
       "      <td>...</td>\n",
       "    </tr>\n",
       "    <tr>\n",
       "      <th>ZS</th>\n",
       "      <td>408</td>\n",
       "    </tr>\n",
       "    <tr>\n",
       "      <th>ZSAN</th>\n",
       "      <td>408</td>\n",
       "    </tr>\n",
       "    <tr>\n",
       "      <th>ZUO</th>\n",
       "      <td>408</td>\n",
       "    </tr>\n",
       "    <tr>\n",
       "      <th>ZYNE</th>\n",
       "      <td>408</td>\n",
       "    </tr>\n",
       "    <tr>\n",
       "      <th>ZYXI</th>\n",
       "      <td>380</td>\n",
       "    </tr>\n",
       "  </tbody>\n",
       "</table>\n",
       "<p>1388 rows × 1 columns</p>\n",
       "</div>"
      ],
      "text/plain": [
       "col_0   count\n",
       "Ticker       \n",
       "AA        408\n",
       "AACG      208\n",
       "AAL       408\n",
       "AAOI      408\n",
       "AAPL      408\n",
       "...       ...\n",
       "ZS        408\n",
       "ZSAN      408\n",
       "ZUO       408\n",
       "ZYNE      408\n",
       "ZYXI      380\n",
       "\n",
       "[1388 rows x 1 columns]"
      ]
     },
     "execution_count": 6,
     "metadata": {},
     "output_type": "execute_result"
    }
   ],
   "source": [
    "#find frequency of each letter grade\n",
    "pd.crosstab(index=df['Ticker'], columns='count')"
   ]
  },
  {
   "cell_type": "code",
   "execution_count": 7,
   "id": "641ad1df-2e9e-4367-b5b0-1d6be64aef29",
   "metadata": {},
   "outputs": [
    {
     "name": "stderr",
     "output_type": "stream",
     "text": [
      "C:\\Users\\admin\\AppData\\Local\\Temp\\ipykernel_20256\\4014762556.py:4: SettingWithCopyWarning: \n",
      "A value is trying to be set on a copy of a slice from a DataFrame.\n",
      "Try using .loc[row_indexer,col_indexer] = value instead\n",
      "\n",
      "See the caveats in the documentation: https://pandas.pydata.org/pandas-docs/stable/user_guide/indexing.html#returning-a-view-versus-a-copy\n",
      "  filtered_df['portfolio_weights'] = filtered_df['Ticker'].map(weights)\n"
     ]
    },
    {
     "data": {
      "text/html": [
       "<div>\n",
       "<style scoped>\n",
       "    .dataframe tbody tr th:only-of-type {\n",
       "        vertical-align: middle;\n",
       "    }\n",
       "\n",
       "    .dataframe tbody tr th {\n",
       "        vertical-align: top;\n",
       "    }\n",
       "\n",
       "    .dataframe thead th {\n",
       "        text-align: right;\n",
       "    }\n",
       "</style>\n",
       "<table border=\"1\" class=\"dataframe\">\n",
       "  <thead>\n",
       "    <tr style=\"text-align: right;\">\n",
       "      <th></th>\n",
       "      <th>Ticker</th>\n",
       "      <th>DlyPrc</th>\n",
       "      <th>DlyRet</th>\n",
       "      <th>DlyVol</th>\n",
       "      <th>vwretd</th>\n",
       "      <th>S&amp;P</th>\n",
       "      <th>weight</th>\n",
       "    </tr>\n",
       "    <tr>\n",
       "      <th>DlyCalDt</th>\n",
       "      <th></th>\n",
       "      <th></th>\n",
       "      <th></th>\n",
       "      <th></th>\n",
       "      <th></th>\n",
       "      <th></th>\n",
       "      <th></th>\n",
       "    </tr>\n",
       "  </thead>\n",
       "  <tbody>\n",
       "    <tr>\n",
       "      <th>2019-01-02</th>\n",
       "      <td>AA</td>\n",
       "      <td>26.24</td>\n",
       "      <td>-0.012792</td>\n",
       "      <td>3066951.0</td>\n",
       "      <td>0.001796</td>\n",
       "      <td>0.019857</td>\n",
       "      <td>0.002451</td>\n",
       "    </tr>\n",
       "    <tr>\n",
       "      <th>2019-01-03</th>\n",
       "      <td>AA</td>\n",
       "      <td>26.24</td>\n",
       "      <td>0.000000</td>\n",
       "      <td>2979941.0</td>\n",
       "      <td>-0.021043</td>\n",
       "      <td>0.013227</td>\n",
       "      <td>0.002451</td>\n",
       "    </tr>\n",
       "    <tr>\n",
       "      <th>2019-01-04</th>\n",
       "      <td>AA</td>\n",
       "      <td>28.34</td>\n",
       "      <td>0.080030</td>\n",
       "      <td>5653659.0</td>\n",
       "      <td>0.033410</td>\n",
       "      <td>-0.026963</td>\n",
       "      <td>0.002451</td>\n",
       "    </tr>\n",
       "    <tr>\n",
       "      <th>2019-01-07</th>\n",
       "      <td>AA</td>\n",
       "      <td>28.42</td>\n",
       "      <td>0.002823</td>\n",
       "      <td>2440950.0</td>\n",
       "      <td>0.009202</td>\n",
       "      <td>0.046780</td>\n",
       "      <td>0.002451</td>\n",
       "    </tr>\n",
       "    <tr>\n",
       "      <th>2019-01-08</th>\n",
       "      <td>AA</td>\n",
       "      <td>28.25</td>\n",
       "      <td>-0.005982</td>\n",
       "      <td>2218300.0</td>\n",
       "      <td>0.010269</td>\n",
       "      <td>-0.035806</td>\n",
       "      <td>0.002451</td>\n",
       "    </tr>\n",
       "  </tbody>\n",
       "</table>\n",
       "</div>"
      ],
      "text/plain": [
       "           Ticker  DlyPrc    DlyRet     DlyVol    vwretd       S&P    weight\n",
       "DlyCalDt                                                                    \n",
       "2019-01-02     AA   26.24 -0.012792  3066951.0  0.001796  0.019857  0.002451\n",
       "2019-01-03     AA   26.24  0.000000  2979941.0 -0.021043  0.013227  0.002451\n",
       "2019-01-04     AA   28.34  0.080030  5653659.0  0.033410 -0.026963  0.002451\n",
       "2019-01-07     AA   28.42  0.002823  2440950.0  0.009202  0.046780  0.002451\n",
       "2019-01-08     AA   28.25 -0.005982  2218300.0  0.010269 -0.035806  0.002451"
      ]
     },
     "execution_count": 7,
     "metadata": {},
     "output_type": "execute_result"
    }
   ],
   "source": [
    " #Define mapping of weights to ticker\n",
    "weights ={'MAR': 0.4, 'SU': 0.3, 'AA': 0.3,'AACG': 0.3,'AAL': 0.1,'AAOI': 0.2,'AAPL': 0.3,'AAXN': 0.4,'ABB': 0.3,'ABBV': 0.3,'ABEO': 0.6,'ABEV': 0.7,'ABMD': 0.8,'ABT': 0.8,'ABUS': 0.8}\n",
    "# Create new column 'Category_Code' by mapping 'Category' to numeric codes\n",
    "filtered_df['portfolio_weights'] = filtered_df['Ticker'].map(weights)\n",
    "df.head()"
   ]
  },
  {
   "cell_type": "code",
   "execution_count": 8,
   "id": "35417011-76a8-4dc6-95d7-1c4de11637e2",
   "metadata": {},
   "outputs": [
    {
     "name": "stderr",
     "output_type": "stream",
     "text": [
      "C:\\Users\\admin\\AppData\\Local\\Temp\\ipykernel_20256\\4098712371.py:2: SettingWithCopyWarning: \n",
      "A value is trying to be set on a copy of a slice from a DataFrame.\n",
      "Try using .loc[row_indexer,col_indexer] = value instead\n",
      "\n",
      "See the caveats in the documentation: https://pandas.pydata.org/pandas-docs/stable/user_guide/indexing.html#returning-a-view-versus-a-copy\n",
      "  filtered_df['Port_ret'] = filtered_df['DlyRet'] * filtered_df['portfolio_weights']\n",
      "C:\\Users\\admin\\AppData\\Local\\Temp\\ipykernel_20256\\4098712371.py:3: SettingWithCopyWarning: \n",
      "A value is trying to be set on a copy of a slice from a DataFrame.\n",
      "Try using .loc[row_indexer,col_indexer] = value instead\n",
      "\n",
      "See the caveats in the documentation: https://pandas.pydata.org/pandas-docs/stable/user_guide/indexing.html#returning-a-view-versus-a-copy\n",
      "  filtered_df['Port_ret_S&P'] = filtered_df['S&P'] * filtered_df['portfolio_weights']\n"
     ]
    },
    {
     "data": {
      "text/html": [
       "<div>\n",
       "<style scoped>\n",
       "    .dataframe tbody tr th:only-of-type {\n",
       "        vertical-align: middle;\n",
       "    }\n",
       "\n",
       "    .dataframe tbody tr th {\n",
       "        vertical-align: top;\n",
       "    }\n",
       "\n",
       "    .dataframe thead th {\n",
       "        text-align: right;\n",
       "    }\n",
       "</style>\n",
       "<table border=\"1\" class=\"dataframe\">\n",
       "  <thead>\n",
       "    <tr style=\"text-align: right;\">\n",
       "      <th></th>\n",
       "      <th>Ticker</th>\n",
       "      <th>DlyPrc</th>\n",
       "      <th>DlyRet</th>\n",
       "      <th>DlyVol</th>\n",
       "      <th>vwretd</th>\n",
       "      <th>S&amp;P</th>\n",
       "      <th>portfolio_weights</th>\n",
       "      <th>Port_ret</th>\n",
       "      <th>Port_ret_S&amp;P</th>\n",
       "    </tr>\n",
       "    <tr>\n",
       "      <th>DlyCalDt</th>\n",
       "      <th></th>\n",
       "      <th></th>\n",
       "      <th></th>\n",
       "      <th></th>\n",
       "      <th></th>\n",
       "      <th></th>\n",
       "      <th></th>\n",
       "      <th></th>\n",
       "      <th></th>\n",
       "    </tr>\n",
       "  </thead>\n",
       "  <tbody>\n",
       "    <tr>\n",
       "      <th>2019-01-02</th>\n",
       "      <td>AA</td>\n",
       "      <td>26.24</td>\n",
       "      <td>-0.012792</td>\n",
       "      <td>3066951.0</td>\n",
       "      <td>0.001796</td>\n",
       "      <td>0.019857</td>\n",
       "      <td>0.3</td>\n",
       "      <td>-0.003837</td>\n",
       "      <td>0.005957</td>\n",
       "    </tr>\n",
       "    <tr>\n",
       "      <th>2019-01-03</th>\n",
       "      <td>AA</td>\n",
       "      <td>26.24</td>\n",
       "      <td>0.000000</td>\n",
       "      <td>2979941.0</td>\n",
       "      <td>-0.021043</td>\n",
       "      <td>0.013227</td>\n",
       "      <td>0.3</td>\n",
       "      <td>0.000000</td>\n",
       "      <td>0.003968</td>\n",
       "    </tr>\n",
       "    <tr>\n",
       "      <th>2019-01-04</th>\n",
       "      <td>AA</td>\n",
       "      <td>28.34</td>\n",
       "      <td>0.080030</td>\n",
       "      <td>5653659.0</td>\n",
       "      <td>0.033410</td>\n",
       "      <td>-0.026963</td>\n",
       "      <td>0.3</td>\n",
       "      <td>0.024009</td>\n",
       "      <td>-0.008089</td>\n",
       "    </tr>\n",
       "    <tr>\n",
       "      <th>2019-01-07</th>\n",
       "      <td>AA</td>\n",
       "      <td>28.42</td>\n",
       "      <td>0.002823</td>\n",
       "      <td>2440950.0</td>\n",
       "      <td>0.009202</td>\n",
       "      <td>0.046780</td>\n",
       "      <td>0.3</td>\n",
       "      <td>0.000847</td>\n",
       "      <td>0.014034</td>\n",
       "    </tr>\n",
       "    <tr>\n",
       "      <th>2019-01-08</th>\n",
       "      <td>AA</td>\n",
       "      <td>28.25</td>\n",
       "      <td>-0.005982</td>\n",
       "      <td>2218300.0</td>\n",
       "      <td>0.010269</td>\n",
       "      <td>-0.035806</td>\n",
       "      <td>0.3</td>\n",
       "      <td>-0.001795</td>\n",
       "      <td>-0.010742</td>\n",
       "    </tr>\n",
       "  </tbody>\n",
       "</table>\n",
       "</div>"
      ],
      "text/plain": [
       "           Ticker  DlyPrc    DlyRet     DlyVol    vwretd       S&P  \\\n",
       "DlyCalDt                                                             \n",
       "2019-01-02     AA   26.24 -0.012792  3066951.0  0.001796  0.019857   \n",
       "2019-01-03     AA   26.24  0.000000  2979941.0 -0.021043  0.013227   \n",
       "2019-01-04     AA   28.34  0.080030  5653659.0  0.033410 -0.026963   \n",
       "2019-01-07     AA   28.42  0.002823  2440950.0  0.009202  0.046780   \n",
       "2019-01-08     AA   28.25 -0.005982  2218300.0  0.010269 -0.035806   \n",
       "\n",
       "            portfolio_weights  Port_ret  Port_ret_S&P  \n",
       "DlyCalDt                                               \n",
       "2019-01-02                0.3 -0.003837      0.005957  \n",
       "2019-01-03                0.3  0.000000      0.003968  \n",
       "2019-01-04                0.3  0.024009     -0.008089  \n",
       "2019-01-07                0.3  0.000847      0.014034  \n",
       "2019-01-08                0.3 -0.001795     -0.010742  "
      ]
     },
     "execution_count": 8,
     "metadata": {},
     "output_type": "execute_result"
    }
   ],
   "source": [
    "# Create new column 'portfolio returns' by multiplying daily returns and weights\n",
    "filtered_df['Port_ret'] = filtered_df['DlyRet'] * filtered_df['portfolio_weights']\n",
    "filtered_df['Port_ret_S&P'] = filtered_df['S&P'] * filtered_df['portfolio_weights']\n",
    "filtered_df.head()"
   ]
  },
  {
   "cell_type": "code",
   "execution_count": 9,
   "id": "235654c2-54e5-41ea-ac49-125a236b23cd",
   "metadata": {},
   "outputs": [
    {
     "data": {
      "text/html": [
       "<div>\n",
       "<style scoped>\n",
       "    .dataframe tbody tr th:only-of-type {\n",
       "        vertical-align: middle;\n",
       "    }\n",
       "\n",
       "    .dataframe tbody tr th {\n",
       "        vertical-align: top;\n",
       "    }\n",
       "\n",
       "    .dataframe thead th {\n",
       "        text-align: right;\n",
       "    }\n",
       "</style>\n",
       "<table border=\"1\" class=\"dataframe\">\n",
       "  <thead>\n",
       "    <tr style=\"text-align: right;\">\n",
       "      <th></th>\n",
       "      <th>Ticker</th>\n",
       "      <th>DlyPrc</th>\n",
       "      <th>DlyRet</th>\n",
       "      <th>DlyVol</th>\n",
       "      <th>vwretd</th>\n",
       "      <th>S&amp;P</th>\n",
       "      <th>weight</th>\n",
       "      <th>Port_ret</th>\n",
       "      <th>Port_ret_S&amp;P</th>\n",
       "    </tr>\n",
       "    <tr>\n",
       "      <th>DlyCalDt</th>\n",
       "      <th></th>\n",
       "      <th></th>\n",
       "      <th></th>\n",
       "      <th></th>\n",
       "      <th></th>\n",
       "      <th></th>\n",
       "      <th></th>\n",
       "      <th></th>\n",
       "      <th></th>\n",
       "    </tr>\n",
       "  </thead>\n",
       "  <tbody>\n",
       "    <tr>\n",
       "      <th>2019-01-02</th>\n",
       "      <td>AA</td>\n",
       "      <td>26.24</td>\n",
       "      <td>-0.012792</td>\n",
       "      <td>3066951.0</td>\n",
       "      <td>0.001796</td>\n",
       "      <td>0.019857</td>\n",
       "      <td>0.002451</td>\n",
       "      <td>-0.000031</td>\n",
       "      <td>0.000049</td>\n",
       "    </tr>\n",
       "    <tr>\n",
       "      <th>2019-01-03</th>\n",
       "      <td>AA</td>\n",
       "      <td>26.24</td>\n",
       "      <td>0.000000</td>\n",
       "      <td>2979941.0</td>\n",
       "      <td>-0.021043</td>\n",
       "      <td>0.013227</td>\n",
       "      <td>0.002451</td>\n",
       "      <td>0.000000</td>\n",
       "      <td>0.000032</td>\n",
       "    </tr>\n",
       "    <tr>\n",
       "      <th>2019-01-04</th>\n",
       "      <td>AA</td>\n",
       "      <td>28.34</td>\n",
       "      <td>0.080030</td>\n",
       "      <td>5653659.0</td>\n",
       "      <td>0.033410</td>\n",
       "      <td>-0.026963</td>\n",
       "      <td>0.002451</td>\n",
       "      <td>0.000196</td>\n",
       "      <td>-0.000066</td>\n",
       "    </tr>\n",
       "    <tr>\n",
       "      <th>2019-01-07</th>\n",
       "      <td>AA</td>\n",
       "      <td>28.42</td>\n",
       "      <td>0.002823</td>\n",
       "      <td>2440950.0</td>\n",
       "      <td>0.009202</td>\n",
       "      <td>0.046780</td>\n",
       "      <td>0.002451</td>\n",
       "      <td>0.000007</td>\n",
       "      <td>0.000115</td>\n",
       "    </tr>\n",
       "    <tr>\n",
       "      <th>2019-01-08</th>\n",
       "      <td>AA</td>\n",
       "      <td>28.25</td>\n",
       "      <td>-0.005982</td>\n",
       "      <td>2218300.0</td>\n",
       "      <td>0.010269</td>\n",
       "      <td>-0.035806</td>\n",
       "      <td>0.002451</td>\n",
       "      <td>-0.000015</td>\n",
       "      <td>-0.000088</td>\n",
       "    </tr>\n",
       "  </tbody>\n",
       "</table>\n",
       "</div>"
      ],
      "text/plain": [
       "           Ticker  DlyPrc    DlyRet     DlyVol    vwretd       S&P    weight  \\\n",
       "DlyCalDt                                                                       \n",
       "2019-01-02     AA   26.24 -0.012792  3066951.0  0.001796  0.019857  0.002451   \n",
       "2019-01-03     AA   26.24  0.000000  2979941.0 -0.021043  0.013227  0.002451   \n",
       "2019-01-04     AA   28.34  0.080030  5653659.0  0.033410 -0.026963  0.002451   \n",
       "2019-01-07     AA   28.42  0.002823  2440950.0  0.009202  0.046780  0.002451   \n",
       "2019-01-08     AA   28.25 -0.005982  2218300.0  0.010269 -0.035806  0.002451   \n",
       "\n",
       "            Port_ret  Port_ret_S&P  \n",
       "DlyCalDt                            \n",
       "2019-01-02 -0.000031      0.000049  \n",
       "2019-01-03  0.000000      0.000032  \n",
       "2019-01-04  0.000196     -0.000066  \n",
       "2019-01-07  0.000007      0.000115  \n",
       "2019-01-08 -0.000015     -0.000088  "
      ]
     },
     "execution_count": 9,
     "metadata": {},
     "output_type": "execute_result"
    }
   ],
   "source": [
    "# Create new column 'portfolio returns' by multiplying daily returns and weights\n",
    "df['Port_ret'] = df['DlyRet'] * df['weight']\n",
    "df['Port_ret_S&P'] = df['S&P'] *df['weight']\n",
    "df.head()"
   ]
  },
  {
   "cell_type": "code",
   "execution_count": 10,
   "id": "c5c9d1ca-6d55-464b-b87d-a6f0fcf45855",
   "metadata": {},
   "outputs": [
    {
     "data": {
      "text/html": [
       "<div>\n",
       "<style scoped>\n",
       "    .dataframe tbody tr th:only-of-type {\n",
       "        vertical-align: middle;\n",
       "    }\n",
       "\n",
       "    .dataframe tbody tr th {\n",
       "        vertical-align: top;\n",
       "    }\n",
       "\n",
       "    .dataframe thead th {\n",
       "        text-align: right;\n",
       "    }\n",
       "</style>\n",
       "<table border=\"1\" class=\"dataframe\">\n",
       "  <thead>\n",
       "    <tr style=\"text-align: right;\">\n",
       "      <th></th>\n",
       "      <th>DlyPrc</th>\n",
       "      <th>DlyRet</th>\n",
       "      <th>DlyVol</th>\n",
       "      <th>vwretd</th>\n",
       "      <th>S&amp;P</th>\n",
       "      <th>portfolio_weights</th>\n",
       "      <th>Port_ret</th>\n",
       "      <th>Port_ret_S&amp;P</th>\n",
       "    </tr>\n",
       "  </thead>\n",
       "  <tbody>\n",
       "    <tr>\n",
       "      <th>count</th>\n",
       "      <td>5512.000000</td>\n",
       "      <td>5512.000000</td>\n",
       "      <td>5.512000e+03</td>\n",
       "      <td>5512.000000</td>\n",
       "      <td>5512.000000</td>\n",
       "      <td>5512.000000</td>\n",
       "      <td>5512.000000</td>\n",
       "      <td>5512.000000</td>\n",
       "    </tr>\n",
       "    <tr>\n",
       "      <th>mean</th>\n",
       "      <td>70.211740</td>\n",
       "      <td>0.000508</td>\n",
       "      <td>9.257811e+06</td>\n",
       "      <td>0.000897</td>\n",
       "      <td>-0.000138</td>\n",
       "      <td>0.418433</td>\n",
       "      <td>0.000226</td>\n",
       "      <td>0.000047</td>\n",
       "    </tr>\n",
       "    <tr>\n",
       "      <th>std</th>\n",
       "      <td>83.781039</td>\n",
       "      <td>0.040148</td>\n",
       "      <td>1.818349e+07</td>\n",
       "      <td>0.017133</td>\n",
       "      <td>0.028870</td>\n",
       "      <td>0.216053</td>\n",
       "      <td>0.018541</td>\n",
       "      <td>0.016814</td>\n",
       "    </tr>\n",
       "    <tr>\n",
       "      <th>min</th>\n",
       "      <td>0.673000</td>\n",
       "      <td>-0.377000</td>\n",
       "      <td>3.530000e+02</td>\n",
       "      <td>-0.118168</td>\n",
       "      <td>-0.277723</td>\n",
       "      <td>0.100000</td>\n",
       "      <td>-0.226200</td>\n",
       "      <td>-0.105909</td>\n",
       "    </tr>\n",
       "    <tr>\n",
       "      <th>25%</th>\n",
       "      <td>11.213750</td>\n",
       "      <td>-0.013533</td>\n",
       "      <td>8.253000e+05</td>\n",
       "      <td>-0.003714</td>\n",
       "      <td>-0.009809</td>\n",
       "      <td>0.300000</td>\n",
       "      <td>-0.004807</td>\n",
       "      <td>-0.003428</td>\n",
       "    </tr>\n",
       "    <tr>\n",
       "      <th>50%</th>\n",
       "      <td>31.025000</td>\n",
       "      <td>0.000344</td>\n",
       "      <td>3.171703e+06</td>\n",
       "      <td>0.001457</td>\n",
       "      <td>-0.000756</td>\n",
       "      <td>0.300000</td>\n",
       "      <td>0.000120</td>\n",
       "      <td>-0.000275</td>\n",
       "    </tr>\n",
       "    <tr>\n",
       "      <th>75%</th>\n",
       "      <td>89.260000</td>\n",
       "      <td>0.014026</td>\n",
       "      <td>8.340246e+06</td>\n",
       "      <td>0.007077</td>\n",
       "      <td>0.007829</td>\n",
       "      <td>0.600000</td>\n",
       "      <td>0.004931</td>\n",
       "      <td>0.002654</td>\n",
       "    </tr>\n",
       "    <tr>\n",
       "      <th>max</th>\n",
       "      <td>460.040000</td>\n",
       "      <td>0.909091</td>\n",
       "      <td>4.283355e+08</td>\n",
       "      <td>0.091556</td>\n",
       "      <td>1.109404</td>\n",
       "      <td>0.800000</td>\n",
       "      <td>0.545455</td>\n",
       "      <td>0.776583</td>\n",
       "    </tr>\n",
       "  </tbody>\n",
       "</table>\n",
       "</div>"
      ],
      "text/plain": [
       "            DlyPrc       DlyRet        DlyVol       vwretd          S&P  \\\n",
       "count  5512.000000  5512.000000  5.512000e+03  5512.000000  5512.000000   \n",
       "mean     70.211740     0.000508  9.257811e+06     0.000897    -0.000138   \n",
       "std      83.781039     0.040148  1.818349e+07     0.017133     0.028870   \n",
       "min       0.673000    -0.377000  3.530000e+02    -0.118168    -0.277723   \n",
       "25%      11.213750    -0.013533  8.253000e+05    -0.003714    -0.009809   \n",
       "50%      31.025000     0.000344  3.171703e+06     0.001457    -0.000756   \n",
       "75%      89.260000     0.014026  8.340246e+06     0.007077     0.007829   \n",
       "max     460.040000     0.909091  4.283355e+08     0.091556     1.109404   \n",
       "\n",
       "       portfolio_weights     Port_ret  Port_ret_S&P  \n",
       "count        5512.000000  5512.000000   5512.000000  \n",
       "mean            0.418433     0.000226      0.000047  \n",
       "std             0.216053     0.018541      0.016814  \n",
       "min             0.100000    -0.226200     -0.105909  \n",
       "25%             0.300000    -0.004807     -0.003428  \n",
       "50%             0.300000     0.000120     -0.000275  \n",
       "75%             0.600000     0.004931      0.002654  \n",
       "max             0.800000     0.545455      0.776583  "
      ]
     },
     "execution_count": 10,
     "metadata": {},
     "output_type": "execute_result"
    }
   ],
   "source": [
    "filtered_df.describe()"
   ]
  },
  {
   "cell_type": "code",
   "execution_count": 11,
   "id": "367776ff-7a06-4ba0-b874-c82981543100",
   "metadata": {},
   "outputs": [
    {
     "data": {
      "text/html": [
       "<div>\n",
       "<style scoped>\n",
       "    .dataframe tbody tr th:only-of-type {\n",
       "        vertical-align: middle;\n",
       "    }\n",
       "\n",
       "    .dataframe tbody tr th {\n",
       "        vertical-align: top;\n",
       "    }\n",
       "\n",
       "    .dataframe thead th {\n",
       "        text-align: right;\n",
       "    }\n",
       "</style>\n",
       "<table border=\"1\" class=\"dataframe\">\n",
       "  <thead>\n",
       "    <tr style=\"text-align: right;\">\n",
       "      <th></th>\n",
       "      <th>DlyPrc</th>\n",
       "      <th>DlyRet</th>\n",
       "      <th>DlyVol</th>\n",
       "      <th>vwretd</th>\n",
       "      <th>S&amp;P</th>\n",
       "      <th>weight</th>\n",
       "      <th>Port_ret</th>\n",
       "      <th>Port_ret_S&amp;P</th>\n",
       "    </tr>\n",
       "  </thead>\n",
       "  <tbody>\n",
       "    <tr>\n",
       "      <th>count</th>\n",
       "      <td>539610.000000</td>\n",
       "      <td>539516.000000</td>\n",
       "      <td>5.396100e+05</td>\n",
       "      <td>539767.000000</td>\n",
       "      <td>539767.000000</td>\n",
       "      <td>539767.000000</td>\n",
       "      <td>539516.000000</td>\n",
       "      <td>5.397670e+05</td>\n",
       "    </tr>\n",
       "    <tr>\n",
       "      <th>mean</th>\n",
       "      <td>42.065340</td>\n",
       "      <td>0.001468</td>\n",
       "      <td>4.158862e+06</td>\n",
       "      <td>0.000881</td>\n",
       "      <td>-0.000002</td>\n",
       "      <td>0.002571</td>\n",
       "      <td>0.000004</td>\n",
       "      <td>2.952089e-08</td>\n",
       "    </tr>\n",
       "    <tr>\n",
       "      <th>std</th>\n",
       "      <td>101.518467</td>\n",
       "      <td>0.069282</td>\n",
       "      <td>1.123350e+07</td>\n",
       "      <td>0.017005</td>\n",
       "      <td>0.036655</td>\n",
       "      <td>0.001978</td>\n",
       "      <td>0.000221</td>\n",
       "      <td>9.922365e-05</td>\n",
       "    </tr>\n",
       "    <tr>\n",
       "      <th>min</th>\n",
       "      <td>0.022900</td>\n",
       "      <td>-0.917940</td>\n",
       "      <td>0.000000e+00</td>\n",
       "      <td>-0.118168</td>\n",
       "      <td>-3.028410</td>\n",
       "      <td>0.001225</td>\n",
       "      <td>-0.022167</td>\n",
       "      <td>-7.422575e-03</td>\n",
       "    </tr>\n",
       "    <tr>\n",
       "      <th>25%</th>\n",
       "      <td>3.290000</td>\n",
       "      <td>-0.017544</td>\n",
       "      <td>3.637398e+05</td>\n",
       "      <td>-0.003714</td>\n",
       "      <td>-0.008081</td>\n",
       "      <td>0.002451</td>\n",
       "      <td>-0.000044</td>\n",
       "      <td>-2.028936e-05</td>\n",
       "    </tr>\n",
       "    <tr>\n",
       "      <th>50%</th>\n",
       "      <td>13.390000</td>\n",
       "      <td>0.000000</td>\n",
       "      <td>1.206394e+06</td>\n",
       "      <td>0.001418</td>\n",
       "      <td>-0.000631</td>\n",
       "      <td>0.002451</td>\n",
       "      <td>0.000000</td>\n",
       "      <td>-1.572150e-06</td>\n",
       "    </tr>\n",
       "    <tr>\n",
       "      <th>75%</th>\n",
       "      <td>42.410000</td>\n",
       "      <td>0.016578</td>\n",
       "      <td>3.615343e+06</td>\n",
       "      <td>0.007077</td>\n",
       "      <td>0.006854</td>\n",
       "      <td>0.002451</td>\n",
       "      <td>0.000041</td>\n",
       "      <td>1.720785e-05</td>\n",
       "    </tr>\n",
       "    <tr>\n",
       "      <th>max</th>\n",
       "      <td>3225.000000</td>\n",
       "      <td>8.748428</td>\n",
       "      <td>1.003256e+09</td>\n",
       "      <td>0.091556</td>\n",
       "      <td>4.416833</td>\n",
       "      <td>1.000000</td>\n",
       "      <td>0.041985</td>\n",
       "      <td>1.823759e-02</td>\n",
       "    </tr>\n",
       "  </tbody>\n",
       "</table>\n",
       "</div>"
      ],
      "text/plain": [
       "              DlyPrc         DlyRet        DlyVol         vwretd  \\\n",
       "count  539610.000000  539516.000000  5.396100e+05  539767.000000   \n",
       "mean       42.065340       0.001468  4.158862e+06       0.000881   \n",
       "std       101.518467       0.069282  1.123350e+07       0.017005   \n",
       "min         0.022900      -0.917940  0.000000e+00      -0.118168   \n",
       "25%         3.290000      -0.017544  3.637398e+05      -0.003714   \n",
       "50%        13.390000       0.000000  1.206394e+06       0.001418   \n",
       "75%        42.410000       0.016578  3.615343e+06       0.007077   \n",
       "max      3225.000000       8.748428  1.003256e+09       0.091556   \n",
       "\n",
       "                 S&P         weight       Port_ret  Port_ret_S&P  \n",
       "count  539767.000000  539767.000000  539516.000000  5.397670e+05  \n",
       "mean       -0.000002       0.002571       0.000004  2.952089e-08  \n",
       "std         0.036655       0.001978       0.000221  9.922365e-05  \n",
       "min        -3.028410       0.001225      -0.022167 -7.422575e-03  \n",
       "25%        -0.008081       0.002451      -0.000044 -2.028936e-05  \n",
       "50%        -0.000631       0.002451       0.000000 -1.572150e-06  \n",
       "75%         0.006854       0.002451       0.000041  1.720785e-05  \n",
       "max         4.416833       1.000000       0.041985  1.823759e-02  "
      ]
     },
     "execution_count": 11,
     "metadata": {},
     "output_type": "execute_result"
    }
   ],
   "source": [
    "df.describe()"
   ]
  },
  {
   "cell_type": "code",
   "execution_count": 12,
   "id": "4e3e722f-f306-4b5d-a617-e69e6852f0a9",
   "metadata": {},
   "outputs": [
    {
     "data": {
      "text/plain": [
       "Text(0, 0.5, 'Daily Returns')"
      ]
     },
     "execution_count": 12,
     "metadata": {},
     "output_type": "execute_result"
    },
    {
     "data": {
      "image/png": "[encoded data removed]",
      "text/plain": [
       "<Figure size 640x480 with 1 Axes>"
      ]
     },
     "metadata": {},
     "output_type": "display_data"
    }
   ],
   "source": [
    "#### Portfolio returns plot\n",
    "df['Port_ret'].plot()\n",
    "plt.title('Portfolio returnsTime series')\n",
    "plt.xlabel('Date')\n",
    "plt.ylabel('Daily Returns')"
   ]
  },
  {
   "cell_type": "code",
   "execution_count": 13,
   "id": "54bd5a3f-1ae3-4db6-a49a-20cdad564616",
   "metadata": {},
   "outputs": [
    {
     "data": {
      "text/plain": [
       "Text(0, 0.5, 'Daily Returns')"
      ]
     },
     "execution_count": 13,
     "metadata": {},
     "output_type": "execute_result"
    },
    {
     "data": {
      "image/png": "[encoded data removed]",
      "text/plain": [
       "<Figure size 640x480 with 1 Axes>"
      ]
     },
     "metadata": {},
     "output_type": "display_data"
    }
   ],
   "source": [
    "## S&P 500 plot\n",
    "df['S&P'].plot()\n",
    "plt.title('S&P 500 Time series')\n",
    "plt.xlabel('Date')\n",
    "plt.ylabel('Daily Returns')"
   ]
  },
  {
   "cell_type": "markdown",
   "id": "6775c342-34e2-40ec-b725-ee4f273b438a",
   "metadata": {},
   "source": [
    "## Value at Risk Question 2"
   ]
  },
  {
   "cell_type": "code",
   "execution_count": 14,
   "id": "82adfa3b-21f6-490e-ac91-4cf60f0b6550",
   "metadata": {},
   "outputs": [
    {
     "data": {
      "text/plain": [
       "count    5512.000000\n",
       "mean        0.000226\n",
       "std         0.018541\n",
       "min        -0.226200\n",
       "25%        -0.004807\n",
       "50%         0.000120\n",
       "75%         0.004931\n",
       "max         0.545455\n",
       "Name: Port_ret, dtype: float64"
      ]
     },
     "execution_count": 14,
     "metadata": {},
     "output_type": "execute_result"
    }
   ],
   "source": [
    "# Calculate portfolio log return\n",
    "returns= filtered_df['Port_ret']\n",
    "returns.describe()"
   ]
  },
  {
   "cell_type": "code",
   "execution_count": 15,
   "id": "d9cd97ef-cf7f-4ae2-a754-8d73300cc7c1",
   "metadata": {},
   "outputs": [
    {
     "data": {
      "text/plain": [
       "count    539516.000000\n",
       "mean          0.000004\n",
       "std           0.000221\n",
       "min          -0.022167\n",
       "25%          -0.000044\n",
       "50%           0.000000\n",
       "75%           0.000041\n",
       "max           0.041985\n",
       "Name: Port_ret, dtype: float64"
      ]
     },
     "execution_count": 15,
     "metadata": {},
     "output_type": "execute_result"
    }
   ],
   "source": [
    "# Calculate portfolio log return\n",
    "returnss= df['Port_ret']\n",
    "returnss.describe()"
   ]
  },
  {
   "cell_type": "code",
   "execution_count": 16,
   "id": "bfd86878-d941-4331-915d-3b6564b11267",
   "metadata": {},
   "outputs": [
    {
     "name": "stdout",
     "output_type": "stream",
     "text": [
      "VaR at 5% level: -0.0303\n",
      "VaR at 1% level: -0.0429\n",
      "ES at 5% level: -0.0385\n",
      "ES at 1% level: -0.0496\n"
     ]
    }
   ],
   "source": [
    "# Value-at-Risk and expected shortfall at the 5% and 1% levels for the portfolio held by RH traders.\n",
    "from scipy.stats import norm\n",
    "# Calculate portfolio mean and standard deviation of returns\n",
    "mu = np.mean(returns)\n",
    "sigma = np.std(returns)\n",
    "\n",
    "# Calculate Value-at-Risk (VaR) at the 5% and 1% levels\n",
    "VaR_5 = norm.ppf(0.05, mu, sigma)\n",
    "VaR_1 = norm.ppf(0.01, mu, sigma)\n",
    "\n",
    "# Calculate Expected Shortfall (ES) at the 5% and 1% levels\n",
    "ES_5 = -mu - sigma * norm.pdf(norm.ppf(0.05)) / 0.05\n",
    "ES_1 = -mu - sigma * norm.pdf(norm.ppf(0.01)) / 0.01\n",
    "\n",
    "# Print results\n",
    "print('VaR at 5% level:', round(VaR_5, 4))\n",
    "print('VaR at 1% level:', round(VaR_1, 4))\n",
    "print('ES at 5% level:', round(ES_5, 4))\n",
    "print('ES at 1% level:', round(ES_1, 4))"
   ]
  },
  {
   "cell_type": "code",
   "execution_count": 17,
   "id": "caebc43b-8666-4e97-8181-c9586d31cf1e",
   "metadata": {},
   "outputs": [
    {
     "name": "stdout",
     "output_type": "stream",
     "text": [
      "VaR at 5% level: -0.0004\n",
      "VaR at 1% level: -0.0005\n",
      "ES at 5% level: -0.0005\n",
      "ES at 1% level: -0.0006\n"
     ]
    }
   ],
   "source": [
    "# Value-at-Risk and expected shortfall at the 5% and 1% levels for the portfolio held by RH traders.\n",
    "from scipy.stats import norm\n",
    "# Calculate portfolio mean and standard deviation of returns\n",
    "mu = np.mean(returnss)\n",
    "sigma = np.std(returnss)\n",
    "\n",
    "# Calculate Value-at-Risk (VaR) at the 5% and 1% levels\n",
    "VaR_5 = norm.ppf(0.05, mu, sigma)\n",
    "VaR_1 = norm.ppf(0.01, mu, sigma)\n",
    "\n",
    "# Calculate Expected Shortfall (ES) at the 5% and 1% levels\n",
    "ES_5 = -mu - sigma * norm.pdf(norm.ppf(0.05)) / 0.05\n",
    "ES_1 = -mu - sigma * norm.pdf(norm.ppf(0.01)) / 0.01\n",
    "\n",
    "# Print results\n",
    "print('VaR at 5% level:', round(VaR_5, 4))\n",
    "print('VaR at 1% level:', round(VaR_1, 4))\n",
    "print('ES at 5% level:', round(ES_5, 4))\n",
    "print('ES at 1% level:', round(ES_1, 4))"
   ]
  },
  {
   "cell_type": "code",
   "execution_count": 18,
   "id": "c39f8a3e-d6e8-43a0-aca4-d993cfb69152",
   "metadata": {},
   "outputs": [
    {
     "data": {
      "text/plain": [
       "count    5512.000000\n",
       "mean       -0.000138\n",
       "std         0.028870\n",
       "min        -0.277723\n",
       "25%        -0.009809\n",
       "50%        -0.000756\n",
       "75%         0.007829\n",
       "max         1.109404\n",
       "Name: S&P, dtype: float64"
      ]
     },
     "execution_count": 18,
     "metadata": {},
     "output_type": "execute_result"
    }
   ],
   "source": [
    "sreturn = filtered_df['S&P']\n",
    "sreturn.describe()"
   ]
  },
  {
   "cell_type": "code",
   "execution_count": 19,
   "id": "320d5f03-3eaf-41c0-bd7c-516c9c658d6e",
   "metadata": {},
   "outputs": [
    {
     "data": {
      "text/plain": [
       "count    539767.000000\n",
       "mean         -0.000002\n",
       "std           0.036655\n",
       "min          -3.028410\n",
       "25%          -0.008081\n",
       "50%          -0.000631\n",
       "75%           0.006854\n",
       "max           4.416833\n",
       "Name: S&P, dtype: float64"
      ]
     },
     "execution_count": 19,
     "metadata": {},
     "output_type": "execute_result"
    }
   ],
   "source": [
    "sreturns = df['S&P']\n",
    "sreturns.describe()"
   ]
  },
  {
   "cell_type": "code",
   "execution_count": 20,
   "id": "81b2a59c-915a-4d5b-8d55-7831669e2e5a",
   "metadata": {},
   "outputs": [
    {
     "name": "stdout",
     "output_type": "stream",
     "text": [
      "VaR at 5% level: -0.0476\n",
      "VaR at 1% level: -0.0673\n",
      "ES at 5% level: -0.0594\n",
      "ES at 1% level: -0.0768\n"
     ]
    }
   ],
   "source": [
    "# Value-at-Risk and expected shortfall at the 5% and 1% levels for the portfolio held by S&P500 index\n",
    "from scipy.stats import norm\n",
    "\n",
    "# Calculate portfolio mean and standard deviation of returns\n",
    "mu = np.mean(sreturn)\n",
    "sigma = np.std(sreturn)\n",
    "\n",
    "# Calculate Value-at-Risk (VaR) at the 5% and 1% levels\n",
    "VaR_5 = norm.ppf(0.05, mu, sigma)\n",
    "VaR_1 = norm.ppf(0.01, mu, sigma)\n",
    "\n",
    "# Calculate Expected Shortfall (ES) at the 5% and 1% levels\n",
    "ES_5 = -mu - sigma * norm.pdf(norm.ppf(0.05)) / 0.05\n",
    "ES_1 = -mu - sigma * norm.pdf(norm.ppf(0.01)) / 0.01\n",
    "\n",
    "# Print results\n",
    "print('VaR at 5% level:', round(VaR_5, 4))\n",
    "print('VaR at 1% level:', round(VaR_1, 4))\n",
    "print('ES at 5% level:', round(ES_5, 4))\n",
    "print('ES at 1% level:', round(ES_1, 4))"
   ]
  },
  {
   "cell_type": "code",
   "execution_count": 21,
   "id": "db86c5df-4ab9-4f23-a88f-e78fb0aa2688",
   "metadata": {},
   "outputs": [
    {
     "name": "stdout",
     "output_type": "stream",
     "text": [
      "VaR at 5% level: -0.0603\n",
      "VaR at 1% level: -0.0853\n",
      "ES at 5% level: -0.0756\n",
      "ES at 1% level: -0.0977\n"
     ]
    }
   ],
   "source": [
    "# Value-at-Risk and expected shortfall at the 5% and 1% levels for the portfolio held by S&P500 index\n",
    "from scipy.stats import norm\n",
    "\n",
    "# Calculate portfolio mean and standard deviation of returns\n",
    "mu = np.mean(sreturns)\n",
    "sigma = np.std(sreturns)\n",
    "\n",
    "# Calculate Value-at-Risk (VaR) at the 5% and 1% levels\n",
    "VaR_5 = norm.ppf(0.05, mu, sigma)\n",
    "VaR_1 = norm.ppf(0.01, mu, sigma)\n",
    "\n",
    "# Calculate Expected Shortfall (ES) at the 5% and 1% levels\n",
    "ES_5 = -mu - sigma * norm.pdf(norm.ppf(0.05)) / 0.05\n",
    "ES_1 = -mu - sigma * norm.pdf(norm.ppf(0.01)) / 0.01\n",
    "\n",
    "# Print results\n",
    "print('VaR at 5% level:', round(VaR_5, 4))\n",
    "print('VaR at 1% level:', round(VaR_1, 4))\n",
    "print('ES at 5% level:', round(ES_5, 4))\n",
    "print('ES at 1% level:', round(ES_1, 4))"
   ]
  },
  {
   "cell_type": "markdown",
   "id": "271ea221-4ee1-40c4-8c64-5557ddd3c1a2",
   "metadata": {},
   "source": [
    "## Rolling Forecasts Question 3"
   ]
  },
  {
   "cell_type": "code",
   "execution_count": 24,
   "id": "269d3b3f-e8f9-4877-822a-729c2d2f8655",
   "metadata": {},
   "outputs": [
    {
     "data": {
      "text/plain": [
       "(-14.636263097061772,\n",
       " 3.684206121265392e-27,\n",
       " 29,\n",
       " 5482,\n",
       " {'1%': -3.431543426607865,\n",
       "  '5%': -2.8620673757165638,\n",
       "  '10%': -2.5670507209785174},\n",
       " -28243.028873651623)"
      ]
     },
     "execution_count": 24,
     "metadata": {},
     "output_type": "execute_result"
    }
   ],
   "source": [
    "from statsmodels.tsa.stattools import adfuller\n",
    "\n",
    "df_stationarityTest = adfuller(filtered_df['Port_ret'], autolag='AIC')\n",
    "df_stationarityTest"
   ]
  },
  {
   "cell_type": "code",
   "execution_count": 26,
   "id": "a6362bc7-0285-40f5-9fb8-060c3199fe40",
   "metadata": {},
   "outputs": [
    {
     "name": "stdout",
     "output_type": "stream",
     "text": [
      "ADF Statistic: -14.636263097061772\n",
      "P-value:  3.684206121265392e-27\n"
     ]
    }
   ],
   "source": [
    "print('ADF Statistic:', df_stationarityTest[0])\n",
    "print(\"P-value: \", df_stationarityTest[1])"
   ]
  },
  {
   "cell_type": "code",
   "execution_count": 27,
   "id": "b104d8b5-19a6-428d-9369-e409d75f8fa6",
   "metadata": {},
   "outputs": [
    {
     "name": "stderr",
     "output_type": "stream",
     "text": [
      "C:\\Users\\admin\\anaconda3\\lib\\site-packages\\statsmodels\\graphics\\tsaplots.py:348: FutureWarning: The default method 'yw' can produce PACF values outside of the [-1,1] interval. After 0.13, the default will change tounadjusted Yule-Walker ('ywm'). You can use this method now by setting method='ywm'.\n",
      "  warnings.warn(\n"
     ]
    },
    {
     "data": {
      "image/png": "[encoded data removed]",
      "text/plain": [
       "<Figure size 640x480 with 1 Axes>"
      ]
     },
     "metadata": {},
     "output_type": "display_data"
    }
   ],
   "source": [
    "from statsmodels.graphics.tsaplots import plot_pacf\n",
    "pacf = plot_pacf(filtered_df['Port_ret'], lags=25)"
   ]
  },
  {
   "cell_type": "code",
   "execution_count": 28,
   "id": "09a1102f-b896-41ab-bcfb-e4cb786128bd",
   "metadata": {},
   "outputs": [
    {
     "data": {
      "image/png": "[encoded data removed]",
      "text/plain": [
       "<Figure size 640x480 with 1 Axes>"
      ]
     },
     "metadata": {},
     "output_type": "display_data"
    }
   ],
   "source": [
    "from statsmodels.graphics.tsaplots import plot_pacf\n",
    "pacf = plot_pacf(df['Port_ret'], lags=25)"
   ]
  },
  {
   "cell_type": "code",
   "execution_count": 29,
   "id": "260d1cec-a5c6-4468-8aff-afcab6bb0c8b",
   "metadata": {},
   "outputs": [
    {
     "name": "stdout",
     "output_type": "stream",
     "text": [
      "                            AutoReg Model Results                             \n",
      "==============================================================================\n",
      "Dep. Variable:               Port_ret   No. Observations:                 5412\n",
      "Model:                     AutoReg(8)   Log Likelihood               13914.933\n",
      "Method:               Conditional MLE   S.D. of innovations              0.018\n",
      "Date:                Tue, 04 Apr 2023   AIC                         -27809.865\n",
      "Time:                        15:14:27   BIC                         -27743.916\n",
      "Sample:                             8   HQIC                        -27786.842\n",
      "                                 5412                                         \n",
      "===============================================================================\n",
      "                  coef    std err          z      P>|z|      [0.025      0.975]\n",
      "-------------------------------------------------------------------------------\n",
      "const           0.0002      0.000      0.900      0.368      -0.000       0.001\n",
      "Port_ret.L1    -0.1094      0.014     -8.053      0.000      -0.136      -0.083\n",
      "Port_ret.L2     0.0350      0.014      2.560      0.010       0.008       0.062\n",
      "Port_ret.L3     0.0142      0.014      1.039      0.299      -0.013       0.041\n",
      "Port_ret.L4    -0.0056      0.014     -0.409      0.683      -0.032       0.021\n",
      "Port_ret.L5     0.0359      0.014      2.628      0.009       0.009       0.063\n",
      "Port_ret.L6    -0.0419      0.014     -3.064      0.002      -0.069      -0.015\n",
      "Port_ret.L7    -0.0320      0.014     -2.342      0.019      -0.059      -0.005\n",
      "Port_ret.L8    -0.0461      0.014     -3.386      0.001      -0.073      -0.019\n",
      "                                    Roots                                    \n",
      "=============================================================================\n",
      "                  Real          Imaginary           Modulus         Frequency\n",
      "-----------------------------------------------------------------------------\n",
      "AR.1            1.2710           -0.5559j            1.3873           -0.0656\n",
      "AR.2            1.2710           +0.5559j            1.3873            0.0656\n",
      "AR.3            0.4127           -1.3877j            1.4477           -0.2040\n",
      "AR.4            0.4127           +1.3877j            1.4477            0.2040\n",
      "AR.5           -1.3010           -0.6031j            1.4339           -0.4309\n",
      "AR.6           -1.3010           +0.6031j            1.4339            0.4309\n",
      "AR.7           -0.7301           -1.4424j            1.6167           -0.3246\n",
      "AR.8           -0.7301           +1.4424j            1.6167            0.3246\n",
      "-----------------------------------------------------------------------------\n"
     ]
    },
    {
     "name": "stderr",
     "output_type": "stream",
     "text": [
      "C:\\Users\\admin\\anaconda3\\lib\\site-packages\\statsmodels\\tsa\\base\\tsa_model.py:471: ValueWarning: A date index has been provided, but it has no associated frequency information and so will be ignored when e.g. forecasting.\n",
      "  self._init_dates(dates, freq)\n",
      "C:\\Users\\admin\\anaconda3\\lib\\site-packages\\statsmodels\\tsa\\base\\tsa_model.py:471: ValueWarning: A date index has been provided, but it is not monotonic and so will be ignored when e.g. forecasting.\n",
      "  self._init_dates(dates, freq)\n"
     ]
    }
   ],
   "source": [
    "#Create training and test data\n",
    "#\n",
    "train_data = filtered_df['Port_ret'][:len(filtered_df)-100]\n",
    "test_data = filtered_df['Port_ret'][len(filtered_df)-100:]\n",
    "#\n",
    "# Instantiate and fit the AR model with training data\n",
    "#\n",
    "ar_model = AutoReg(train_data, lags=8).fit()\n",
    "#\n",
    "# Print Summary\n",
    "#\n",
    "print(ar_model.summary())"
   ]
  },
  {
   "cell_type": "code",
   "execution_count": 30,
   "id": "97a39c8b-8d27-4c97-9acd-4c4e3604efef",
   "metadata": {},
   "outputs": [
    {
     "name": "stderr",
     "output_type": "stream",
     "text": [
      "C:\\Users\\admin\\anaconda3\\lib\\site-packages\\statsmodels\\tsa\\base\\tsa_model.py:834: ValueWarning: No supported index is available. Prediction results will be given with an integer index beginning at `start`.\n",
      "  return get_prediction_index(\n",
      "C:\\Users\\admin\\anaconda3\\lib\\site-packages\\statsmodels\\tsa\\deterministic.py:302: UserWarning: Only PeriodIndexes, DatetimeIndexes with a frequency set, RangesIndexes, and Index with a unit increment support extending. The index is set will contain the position relative to the data length.\n",
      "  fcast_index = self._extend_index(index, steps, forecast_index)\n"
     ]
    },
    {
     "data": {
      "text/plain": [
       "Text(0, 0.5, 'Daily Returns')"
      ]
     },
     "execution_count": 30,
     "metadata": {},
     "output_type": "execute_result"
    },
    {
     "data": {
      "image/png": "[encoded data removed]",
      "text/plain": [
       "<Figure size 640x480 with 1 Axes>"
      ]
     },
     "metadata": {},
     "output_type": "display_data"
    }
   ],
   "source": [
    "#\n",
    "# Make the predictions\n",
    "#\n",
    "pred = ar_model.predict(start=len(train_data), end=(len(filtered_df)-1), dynamic=False)\n",
    "#\n",
    "# Plot the prediction vs test data\n",
    "#\n",
    "from matplotlib import pyplot\n",
    "pyplot.plot(pred)\n",
    "pyplot.plot(test_data, color='red')\n",
    "plt.title('Stock return forecasts')\n",
    "plt.xlabel('Date')\n",
    "plt.ylabel('Daily Returns')"
   ]
  },
  {
   "cell_type": "code",
   "execution_count": 31,
   "id": "1613b641-e6b1-4ae6-84d3-d9c4804eb5e4",
   "metadata": {},
   "outputs": [
    {
     "name": "stdout",
     "output_type": "stream",
     "text": [
      "                            AutoReg Model Results                             \n",
      "==============================================================================\n",
      "Dep. Variable:               Port_ret   No. Observations:                 5412\n",
      "Model:                     AutoReg(8)   Log Likelihood               13914.933\n",
      "Method:               Conditional MLE   S.D. of innovations              0.018\n",
      "Date:                Tue, 04 Apr 2023   AIC                         -27809.865\n",
      "Time:                        15:14:29   BIC                         -27743.916\n",
      "Sample:                             8   HQIC                        -27786.842\n",
      "                                 5412                                         \n",
      "===============================================================================\n",
      "                  coef    std err          z      P>|z|      [0.025      0.975]\n",
      "-------------------------------------------------------------------------------\n",
      "const           0.0002      0.000      0.900      0.368      -0.000       0.001\n",
      "Port_ret.L1    -0.1094      0.014     -8.053      0.000      -0.136      -0.083\n",
      "Port_ret.L2     0.0350      0.014      2.560      0.010       0.008       0.062\n",
      "Port_ret.L3     0.0142      0.014      1.039      0.299      -0.013       0.041\n",
      "Port_ret.L4    -0.0056      0.014     -0.409      0.683      -0.032       0.021\n",
      "Port_ret.L5     0.0359      0.014      2.628      0.009       0.009       0.063\n",
      "Port_ret.L6    -0.0419      0.014     -3.064      0.002      -0.069      -0.015\n",
      "Port_ret.L7    -0.0320      0.014     -2.342      0.019      -0.059      -0.005\n",
      "Port_ret.L8    -0.0461      0.014     -3.386      0.001      -0.073      -0.019\n",
      "                                    Roots                                    \n",
      "=============================================================================\n",
      "                  Real          Imaginary           Modulus         Frequency\n",
      "-----------------------------------------------------------------------------\n",
      "AR.1            1.2710           -0.5559j            1.3873           -0.0656\n",
      "AR.2            1.2710           +0.5559j            1.3873            0.0656\n",
      "AR.3            0.4127           -1.3877j            1.4477           -0.2040\n",
      "AR.4            0.4127           +1.3877j            1.4477            0.2040\n",
      "AR.5           -1.3010           -0.6031j            1.4339           -0.4309\n",
      "AR.6           -1.3010           +0.6031j            1.4339            0.4309\n",
      "AR.7           -0.7301           -1.4424j            1.6167           -0.3246\n",
      "AR.8           -0.7301           +1.4424j            1.6167            0.3246\n",
      "-----------------------------------------------------------------------------\n"
     ]
    },
    {
     "name": "stderr",
     "output_type": "stream",
     "text": [
      "C:\\Users\\admin\\anaconda3\\lib\\site-packages\\statsmodels\\tsa\\base\\tsa_model.py:471: ValueWarning: A date index has been provided, but it has no associated frequency information and so will be ignored when e.g. forecasting.\n",
      "  self._init_dates(dates, freq)\n",
      "C:\\Users\\admin\\anaconda3\\lib\\site-packages\\statsmodels\\tsa\\base\\tsa_model.py:471: ValueWarning: A date index has been provided, but it is not monotonic and so will be ignored when e.g. forecasting.\n",
      "  self._init_dates(dates, freq)\n"
     ]
    },
    {
     "data": {
      "text/plain": [
       "Text(0, 0.5, 'Daily Returns')"
      ]
     },
     "execution_count": 31,
     "metadata": {},
     "output_type": "execute_result"
    },
    {
     "data": {
      "image/png": "[encoded data removed]",
      "text/plain": [
       "<Figure size 640x480 with 1 Axes>"
      ]
     },
     "metadata": {},
     "output_type": "display_data"
    }
   ],
   "source": [
    "\n",
    "from matplotlib import pyplot\n",
    "\n",
    "ar_model = AutoReg(train_data, lags=8).fit()\n",
    "#\n",
    "# Print Summary\n",
    "#\n",
    "print(ar_model.summary())\n",
    "pyplot.plot(pred)\n",
    "pyplot.plot(test_data, color='red')\n",
    "plt.title('Stock return forecasts')\n",
    "plt.xlabel('Date')\n",
    "plt.ylabel('Daily Returns')\n",
    "\n"
   ]
  },
  {
   "cell_type": "code",
   "execution_count": 32,
   "id": "99d9561e-3294-48ea-8e08-b325063cf8bf",
   "metadata": {},
   "outputs": [
    {
     "data": {
      "text/plain": [
       "<matplotlib.legend.Legend at 0x196834eaf80>"
      ]
     },
     "execution_count": 32,
     "metadata": {},
     "output_type": "execute_result"
    },
    {
     "data": {
      "image/png": "[encoded data removed]",
      "text/plain": [
       "<Figure size 1000x600 with 1 Axes>"
      ]
     },
     "metadata": {},
     "output_type": "display_data"
    }
   ],
   "source": [
    "# calculate the 90% confidence interval\n",
    "ci = ar_model.conf_int(alpha=0.1)\n",
    "# plot the data and the confidence interval\n",
    "import matplotlib.pyplot as plt\n",
    "fig, ax = plt.subplots(figsize=(10, 6))\n",
    "ax.plot(filtered_df['Port_ret'], label='data')\n",
    "ax.plot(ar_model.fittedvalues, label='fitted')\n",
    "ax.legend()\n"
   ]
  },
  {
   "cell_type": "code",
   "execution_count": 33,
   "id": "2611618b-50f3-48d1-88c3-e45b29dbd2bf",
   "metadata": {},
   "outputs": [
    {
     "data": {
      "text/html": [
       "<div>\n",
       "<style scoped>\n",
       "    .dataframe tbody tr th:only-of-type {\n",
       "        vertical-align: middle;\n",
       "    }\n",
       "\n",
       "    .dataframe tbody tr th {\n",
       "        vertical-align: top;\n",
       "    }\n",
       "\n",
       "    .dataframe thead th {\n",
       "        text-align: right;\n",
       "    }\n",
       "</style>\n",
       "<table border=\"1\" class=\"dataframe\">\n",
       "  <thead>\n",
       "    <tr style=\"text-align: right;\">\n",
       "      <th></th>\n",
       "      <th>0</th>\n",
       "      <th>1</th>\n",
       "    </tr>\n",
       "  </thead>\n",
       "  <tbody>\n",
       "    <tr>\n",
       "      <th>count</th>\n",
       "      <td>9.000000</td>\n",
       "      <td>9.000000</td>\n",
       "    </tr>\n",
       "    <tr>\n",
       "      <th>mean</th>\n",
       "      <td>-0.036655</td>\n",
       "      <td>0.003364</td>\n",
       "    </tr>\n",
       "    <tr>\n",
       "      <th>std</th>\n",
       "      <td>0.047817</td>\n",
       "      <td>0.045896</td>\n",
       "    </tr>\n",
       "    <tr>\n",
       "      <th>min</th>\n",
       "      <td>-0.131784</td>\n",
       "      <td>-0.087080</td>\n",
       "    </tr>\n",
       "    <tr>\n",
       "      <th>25%</th>\n",
       "      <td>-0.064420</td>\n",
       "      <td>-0.019418</td>\n",
       "    </tr>\n",
       "    <tr>\n",
       "      <th>50%</th>\n",
       "      <td>-0.028062</td>\n",
       "      <td>0.000638</td>\n",
       "    </tr>\n",
       "    <tr>\n",
       "      <th>75%</th>\n",
       "      <td>-0.000187</td>\n",
       "      <td>0.036660</td>\n",
       "    </tr>\n",
       "    <tr>\n",
       "      <th>max</th>\n",
       "      <td>0.013437</td>\n",
       "      <td>0.058397</td>\n",
       "    </tr>\n",
       "  </tbody>\n",
       "</table>\n",
       "</div>"
      ],
      "text/plain": [
       "              0         1\n",
       "count  9.000000  9.000000\n",
       "mean  -0.036655  0.003364\n",
       "std    0.047817  0.045896\n",
       "min   -0.131784 -0.087080\n",
       "25%   -0.064420 -0.019418\n",
       "50%   -0.028062  0.000638\n",
       "75%   -0.000187  0.036660\n",
       "max    0.013437  0.058397"
      ]
     },
     "execution_count": 33,
     "metadata": {},
     "output_type": "execute_result"
    }
   ],
   "source": [
    "ci.describe()"
   ]
  },
  {
   "cell_type": "code",
   "execution_count": 36,
   "id": "090a53bb-2916-4d91-a276-b46a7f11d140",
   "metadata": {},
   "outputs": [
    {
     "name": "stdout",
     "output_type": "stream",
     "text": [
      "Mean forecast value: 0.00019625816439815431\n",
      "Standard deviation of forecast values: 9.307287856152525e-18\n"
     ]
    },
    {
     "name": "stderr",
     "output_type": "stream",
     "text": [
      "C:\\Users\\admin\\anaconda3\\lib\\site-packages\\statsmodels\\tsa\\base\\tsa_model.py:834: ValueWarning: No supported index is available. Prediction results will be given with an integer index beginning at `start`.\n",
      "  return get_prediction_index(\n",
      "C:\\Users\\admin\\anaconda3\\lib\\site-packages\\statsmodels\\tsa\\deterministic.py:302: UserWarning: Only PeriodIndexes, DatetimeIndexes with a frequency set, RangesIndexes, and Index with a unit increment support extending. The index is set will contain the position relative to the data length.\n",
      "  fcast_index = self._extend_index(index, steps, forecast_index)\n"
     ]
    }
   ],
   "source": [
    "# Generate forecasts for the next 10 time periods\n",
    "from sklearn.metrics import mean_absolute_error, mean_squared_error\n",
    "forecast_values = ar_model.predict(start=len(filtered_df), end=len(filtered_df)+9)\n",
    "\n",
    "# Print a summary of the forecast's statistics\n",
    "print('Mean forecast value:', forecast_values.mean())\n",
    "print('Standard deviation of forecast values:', forecast_values.std())\n",
    "\n"
   ]
  },
  {
   "cell_type": "code",
   "execution_count": 38,
   "id": "6a83b923-0f05-4cf1-b26f-acb2c65b80bc",
   "metadata": {},
   "outputs": [
    {
     "name": "stdout",
     "output_type": "stream",
     "text": [
      "MAE: 0.006339590999999999\n",
      "MSE: 5.45927050770355e-05\n",
      "RMSE: 0.0073886876424054835\n"
     ]
    }
   ],
   "source": [
    "# Calculate forecast summary statistics\n",
    "actual_values = filtered_df['Port_ret'][-10:]\n",
    "mae = mean_absolute_error(actual_values, forecast_values)\n",
    "mse = mean_squared_error(actual_values, forecast_values)\n",
    "rmse = mean_squared_error(actual_values, forecast_values, squared=False)\n",
    "\n",
    "# Print forecast summary statistics\n",
    "print('MAE:', mae)\n",
    "print('MSE:', mse)\n",
    "print('RMSE:', rmse)"
   ]
  },
  {
   "cell_type": "code",
   "execution_count": null,
   "id": "9a5bcdf3-99dd-46a8-8282-b25bad816d20",
   "metadata": {},
   "outputs": [],
   "source": []
  }
 ],
 "metadata": {
  "kernelspec": {
   "display_name": "Python 3 (ipykernel)",
   "language": "python",
   "name": "python3"
  },
  "language_info": {
   "codemirror_mode": {
    "name": "ipython",
    "version": 3
   },
   "file_extension": ".py",
   "mimetype": "text/x-python",
   "name": "python",
   "nbconvert_exporter": "python",
   "pygments_lexer": "ipython3",
   "version": "3.10.9"
  }
 },
 "nbformat": 4,
 "nbformat_minor": 5
}
